{
 "cells": [
  {
   "cell_type": "markdown",
   "id": "2d8dcb57-a072-43d8-aa74-57845080fdd7",
   "metadata": {},
   "source": [
    "## Sentiment Analysis in Python\n",
    "In this notebook we will be doing some sentiment analysis in python using a social media sentiment dataset from Kaggle, and the technique will be \n",
    "1. VADER (Valence Aware Dictionary and Sentiment Reasoner) - Bag of words approach"
   ]
  },
  {
   "cell_type": "markdown",
   "id": "5b036737-32d3-42e0-b1fe-f9b9d1f03f42",
   "metadata": {},
   "source": [
    "## Step 0. Read in Data and NLTK Basics"
   ]
  },
  {
   "cell_type": "code",
   "execution_count": 1,
   "id": "f81bc793-e431-41a4-94d8-32df067ab005",
   "metadata": {},
   "outputs": [],
   "source": [
    "import pandas as pd \n",
    "import numpy as np\n",
    "import matplotlib.pyplot as plt\n",
    "plt.style.use ('ggplot')\n",
    "import seaborn as sns\n",
    "import nltk"
   ]
  },
  {
   "cell_type": "code",
   "execution_count": 2,
   "id": "c588f2d1-202e-4a9b-9c78-07b2cf05d686",
   "metadata": {},
   "outputs": [],
   "source": [
    "# Reading in data\n",
    "df = pd.read_csv(\"sentimentdataset.csv\")"
   ]
  },
  {
   "cell_type": "code",
   "execution_count": 3,
   "id": "a1759cd0-c8d8-45f4-9db2-9e4b776f36c3",
   "metadata": {},
   "outputs": [
    {
     "data": {
      "text/html": [
       "<div>\n",
       "<style scoped>\n",
       "    .dataframe tbody tr th:only-of-type {\n",
       "        vertical-align: middle;\n",
       "    }\n",
       "\n",
       "    .dataframe tbody tr th {\n",
       "        vertical-align: top;\n",
       "    }\n",
       "\n",
       "    .dataframe thead th {\n",
       "        text-align: right;\n",
       "    }\n",
       "</style>\n",
       "<table border=\"1\" class=\"dataframe\">\n",
       "  <thead>\n",
       "    <tr style=\"text-align: right;\">\n",
       "      <th></th>\n",
       "      <th>Id</th>\n",
       "      <th>Text</th>\n",
       "      <th>Timestamp</th>\n",
       "      <th>User</th>\n",
       "      <th>Platform</th>\n",
       "      <th>Hashtags</th>\n",
       "      <th>Retweets</th>\n",
       "      <th>Likes</th>\n",
       "      <th>Country</th>\n",
       "      <th>Year</th>\n",
       "      <th>Month</th>\n",
       "      <th>Day</th>\n",
       "      <th>Hour</th>\n",
       "    </tr>\n",
       "  </thead>\n",
       "  <tbody>\n",
       "    <tr>\n",
       "      <th>0</th>\n",
       "      <td>0</td>\n",
       "      <td>Enjoying a beautiful day at the park!        ...</td>\n",
       "      <td>2023-01-15 12:30</td>\n",
       "      <td>User123</td>\n",
       "      <td>Twitter</td>\n",
       "      <td>#Nature #Park</td>\n",
       "      <td>15</td>\n",
       "      <td>30</td>\n",
       "      <td>USA</td>\n",
       "      <td>2023</td>\n",
       "      <td>1</td>\n",
       "      <td>15</td>\n",
       "      <td>12</td>\n",
       "    </tr>\n",
       "    <tr>\n",
       "      <th>1</th>\n",
       "      <td>1</td>\n",
       "      <td>Traffic was terrible this morning.           ...</td>\n",
       "      <td>2023-01-15 8:45</td>\n",
       "      <td>CommuterX</td>\n",
       "      <td>Twitter</td>\n",
       "      <td>#Traffic #Morning</td>\n",
       "      <td>5</td>\n",
       "      <td>10</td>\n",
       "      <td>Canada</td>\n",
       "      <td>2023</td>\n",
       "      <td>1</td>\n",
       "      <td>15</td>\n",
       "      <td>8</td>\n",
       "    </tr>\n",
       "    <tr>\n",
       "      <th>2</th>\n",
       "      <td>2</td>\n",
       "      <td>Just finished an amazing workout! 💪          ...</td>\n",
       "      <td>2023-01-15 15:45</td>\n",
       "      <td>FitnessFan</td>\n",
       "      <td>Instagram</td>\n",
       "      <td>#Fitness #Workout</td>\n",
       "      <td>20</td>\n",
       "      <td>40</td>\n",
       "      <td>USA</td>\n",
       "      <td>2023</td>\n",
       "      <td>1</td>\n",
       "      <td>15</td>\n",
       "      <td>15</td>\n",
       "    </tr>\n",
       "    <tr>\n",
       "      <th>3</th>\n",
       "      <td>3</td>\n",
       "      <td>Excited about the upcoming weekend getaway!  ...</td>\n",
       "      <td>2023-01-15 18:20</td>\n",
       "      <td>AdventureX</td>\n",
       "      <td>Facebook</td>\n",
       "      <td>#Travel #Adventure</td>\n",
       "      <td>8</td>\n",
       "      <td>15</td>\n",
       "      <td>UK</td>\n",
       "      <td>2023</td>\n",
       "      <td>1</td>\n",
       "      <td>15</td>\n",
       "      <td>18</td>\n",
       "    </tr>\n",
       "    <tr>\n",
       "      <th>4</th>\n",
       "      <td>4</td>\n",
       "      <td>Trying out a new recipe for dinner tonight.  ...</td>\n",
       "      <td>2023-01-15 19:55</td>\n",
       "      <td>ChefCook</td>\n",
       "      <td>Instagram</td>\n",
       "      <td>#Cooking #Food</td>\n",
       "      <td>12</td>\n",
       "      <td>25</td>\n",
       "      <td>Australia</td>\n",
       "      <td>2023</td>\n",
       "      <td>1</td>\n",
       "      <td>15</td>\n",
       "      <td>19</td>\n",
       "    </tr>\n",
       "  </tbody>\n",
       "</table>\n",
       "</div>"
      ],
      "text/plain": [
       "   Id                                               Text         Timestamp  \\\n",
       "0   0   Enjoying a beautiful day at the park!        ...  2023-01-15 12:30   \n",
       "1   1   Traffic was terrible this morning.           ...   2023-01-15 8:45   \n",
       "2   2   Just finished an amazing workout! 💪          ...  2023-01-15 15:45   \n",
       "3   3   Excited about the upcoming weekend getaway!  ...  2023-01-15 18:20   \n",
       "4   4   Trying out a new recipe for dinner tonight.  ...  2023-01-15 19:55   \n",
       "\n",
       "             User     Platform                                    Hashtags  \\\n",
       "0   User123          Twitter     #Nature #Park                               \n",
       "1   CommuterX        Twitter     #Traffic #Morning                           \n",
       "2   FitnessFan      Instagram    #Fitness #Workout                           \n",
       "3   AdventureX       Facebook    #Travel #Adventure                          \n",
       "4   ChefCook        Instagram    #Cooking #Food                              \n",
       "\n",
       "   Retweets  Likes       Country  Year  Month  Day  Hour  \n",
       "0        15     30     USA        2023      1   15    12  \n",
       "1         5     10     Canada     2023      1   15     8  \n",
       "2        20     40   USA          2023      1   15    15  \n",
       "3         8     15     UK         2023      1   15    18  \n",
       "4        12     25    Australia   2023      1   15    19  "
      ]
     },
     "execution_count": 3,
     "metadata": {},
     "output_type": "execute_result"
    }
   ],
   "source": [
    "df.head()"
   ]
  },
  {
   "cell_type": "code",
   "execution_count": 4,
   "id": "1c70af89-e366-4cd2-a91e-c3204cc0b857",
   "metadata": {},
   "outputs": [
    {
     "data": {
      "text/plain": [
       "' Enjoying a beautiful day at the park!              '"
      ]
     },
     "execution_count": 4,
     "metadata": {},
     "output_type": "execute_result"
    }
   ],
   "source": [
    "df['Text'].values[0]"
   ]
  },
  {
   "cell_type": "code",
   "execution_count": 5,
   "id": "792fe7ee-cc40-4739-9f4e-f911f7f0bf29",
   "metadata": {},
   "outputs": [
    {
     "name": "stdout",
     "output_type": "stream",
     "text": [
      "(732, 13)\n"
     ]
    }
   ],
   "source": [
    "print(df.shape)"
   ]
  },
  {
   "cell_type": "markdown",
   "id": "f4aaf302-7aaf-40ff-a54a-07ddaad877ae",
   "metadata": {},
   "source": [
    "## Quick EDA"
   ]
  },
  {
   "cell_type": "code",
   "execution_count": 6,
   "id": "f7e222d0-764e-4082-8375-3efa9ee0d034",
   "metadata": {},
   "outputs": [
    {
     "data": {
      "text/plain": [
       "<Axes: title={'center': 'Count of Reviews by Platforms'}, xlabel='Platform'>"
      ]
     },
     "execution_count": 6,
     "metadata": {},
     "output_type": "execute_result"
    },
    {
     "data": {
      "image/png": "[encoded data removed]",
      "text/plain": [
       "<Figure size 1000x500 with 1 Axes>"
      ]
     },
     "metadata": {},
     "output_type": "display_data"
    }
   ],
   "source": [
    "df['Platform'].value_counts().sort_index().plot(kind='bar', title= 'Count of Reviews by Platforms',\n",
    "                                               figsize=(10,5))"
   ]
  },
  {
   "cell_type": "markdown",
   "id": "494f7fc3-0077-4516-a4b3-9117749c6eee",
   "metadata": {},
   "source": [
    "# Basic NLTK"
   ]
  },
  {
   "cell_type": "code",
   "execution_count": 7,
   "id": "8f8d1269-2658-445f-8934-03074cb0fccc",
   "metadata": {},
   "outputs": [
    {
     "name": "stdout",
     "output_type": "stream",
     "text": [
      " Starting a new fitness challenge tomorrow! 💪     \n"
     ]
    }
   ],
   "source": [
    "example = df['Text'][50]\n",
    "print (example)"
   ]
  },
  {
   "cell_type": "code",
   "execution_count": 8,
   "id": "306c02d7-67be-4fce-b293-3067ce97789d",
   "metadata": {},
   "outputs": [
    {
     "name": "stderr",
     "output_type": "stream",
     "text": [
      "[nltk_data] Downloading package punkt to\n",
      "[nltk_data]     C:\\Users\\gabriela\\AppData\\Roaming\\nltk_data...\n",
      "[nltk_data]   Package punkt is already up-to-date!\n"
     ]
    },
    {
     "data": {
      "text/plain": [
       "True"
      ]
     },
     "execution_count": 8,
     "metadata": {},
     "output_type": "execute_result"
    }
   ],
   "source": [
    "nltk.download('punkt')"
   ]
  },
  {
   "cell_type": "code",
   "execution_count": 9,
   "id": "29efcf53-24d5-43c8-a0e2-e2d4fc7faac5",
   "metadata": {},
   "outputs": [
    {
     "data": {
      "text/plain": [
       "['Starting', 'a', 'new', 'fitness', 'challenge']"
      ]
     },
     "execution_count": 9,
     "metadata": {},
     "output_type": "execute_result"
    }
   ],
   "source": [
    "tokens = nltk.word_tokenize(example)\n",
    "tokens[:5]"
   ]
  },
  {
   "cell_type": "code",
   "execution_count": 10,
   "id": "c9f8b845-f381-4ef6-9c27-b467b24df9aa",
   "metadata": {},
   "outputs": [
    {
     "name": "stderr",
     "output_type": "stream",
     "text": [
      "[nltk_data] Downloading package averaged_perceptron_tagger to\n",
      "[nltk_data]     C:\\Users\\gabriela\\AppData\\Roaming\\nltk_data...\n",
      "[nltk_data]   Package averaged_perceptron_tagger is already up-to-\n",
      "[nltk_data]       date!\n"
     ]
    },
    {
     "data": {
      "text/plain": [
       "True"
      ]
     },
     "execution_count": 10,
     "metadata": {},
     "output_type": "execute_result"
    }
   ],
   "source": [
    "nltk.download('averaged_perceptron_tagger')"
   ]
  },
  {
   "cell_type": "code",
   "execution_count": 11,
   "id": "d69f7ac3-0637-43d0-9d8c-4800307984d3",
   "metadata": {},
   "outputs": [
    {
     "data": {
      "text/plain": [
       "[('Starting', 'VBG'),\n",
       " ('a', 'DT'),\n",
       " ('new', 'JJ'),\n",
       " ('fitness', 'NN'),\n",
       " ('challenge', 'NN')]"
      ]
     },
     "execution_count": 11,
     "metadata": {},
     "output_type": "execute_result"
    }
   ],
   "source": [
    "tagged=nltk.pos_tag(tokens)\n",
    "tagged[:5]"
   ]
  },
  {
   "cell_type": "markdown",
   "id": "f09fde39-082d-4cd3-92b8-57cd47eb67d1",
   "metadata": {},
   "source": [
    "## Step 1. VADER Sentiment Scoring\n",
    "We will use NLTK's SentimentIntensityAnalyzer to get the neg/neu/pos scores of the text.\n",
    "This uses a \"bag of words\" approach:\n",
    "1. Stop words are removed\n",
    "2. Each word is scored and combined to a total score\n"
   ]
  },
  {
   "cell_type": "code",
   "execution_count": 12,
   "id": "26f0016f-e998-42d4-8ce9-0beb580a139c",
   "metadata": {},
   "outputs": [
    {
     "name": "stderr",
     "output_type": "stream",
     "text": [
      "[nltk_data] Downloading package vader_lexicon to\n",
      "[nltk_data]     C:\\Users\\gabriela\\AppData\\Roaming\\nltk_data...\n",
      "[nltk_data]   Package vader_lexicon is already up-to-date!\n"
     ]
    },
    {
     "data": {
      "text/plain": [
       "True"
      ]
     },
     "execution_count": 12,
     "metadata": {},
     "output_type": "execute_result"
    }
   ],
   "source": [
    "nltk.download('vader_lexicon')\n"
   ]
  },
  {
   "cell_type": "code",
   "execution_count": 13,
   "id": "3a6777d0-0ef9-4cba-b1bd-1c03778e217e",
   "metadata": {},
   "outputs": [],
   "source": [
    "from nltk.sentiment import SentimentIntensityAnalyzer\n",
    "sia=SentimentIntensityAnalyzer()"
   ]
  },
  {
   "cell_type": "code",
   "execution_count": 14,
   "id": "3cc0a57d-9368-4285-8994-9a16e15a8fd0",
   "metadata": {},
   "outputs": [
    {
     "data": {
      "text/plain": [
       "<nltk.sentiment.vader.SentimentIntensityAnalyzer at 0x1c8e1bb9a90>"
      ]
     },
     "execution_count": 14,
     "metadata": {},
     "output_type": "execute_result"
    }
   ],
   "source": [
    "sia"
   ]
  },
  {
   "cell_type": "code",
   "execution_count": 15,
   "id": "9e1c1878-db28-40cd-b978-86377b7a207b",
   "metadata": {},
   "outputs": [
    {
     "data": {
      "text/plain": [
       "{'neg': 0.0, 'neu': 0.448, 'pos': 0.552, 'compound': 0.4003}"
      ]
     },
     "execution_count": 15,
     "metadata": {},
     "output_type": "execute_result"
    }
   ],
   "source": [
    "sia.polarity_scores(example)"
   ]
  },
  {
   "cell_type": "code",
   "execution_count": 16,
   "id": "d6d1fc37-6cde-4663-8d20-de8304e606a3",
   "metadata": {},
   "outputs": [],
   "source": [
    "# Run the polarity score on the entire dataset\n",
    "from textblob import TextBlob"
   ]
  },
  {
   "cell_type": "code",
   "execution_count": 17,
   "id": "8d1e7627-7331-4f55-87f1-b42d21fdf33c",
   "metadata": {},
   "outputs": [
    {
     "data": {
      "text/html": [
       "<div>\n",
       "<style scoped>\n",
       "    .dataframe tbody tr th:only-of-type {\n",
       "        vertical-align: middle;\n",
       "    }\n",
       "\n",
       "    .dataframe tbody tr th {\n",
       "        vertical-align: top;\n",
       "    }\n",
       "\n",
       "    .dataframe thead th {\n",
       "        text-align: right;\n",
       "    }\n",
       "</style>\n",
       "<table border=\"1\" class=\"dataframe\">\n",
       "  <thead>\n",
       "    <tr style=\"text-align: right;\">\n",
       "      <th></th>\n",
       "      <th>Id</th>\n",
       "      <th>Text</th>\n",
       "      <th>Timestamp</th>\n",
       "      <th>User</th>\n",
       "      <th>Platform</th>\n",
       "      <th>Hashtags</th>\n",
       "      <th>Retweets</th>\n",
       "      <th>Likes</th>\n",
       "      <th>Country</th>\n",
       "      <th>Year</th>\n",
       "      <th>Month</th>\n",
       "      <th>Day</th>\n",
       "      <th>Hour</th>\n",
       "    </tr>\n",
       "  </thead>\n",
       "  <tbody>\n",
       "    <tr>\n",
       "      <th>0</th>\n",
       "      <td>0</td>\n",
       "      <td>Enjoying a beautiful day at the park!        ...</td>\n",
       "      <td>2023-01-15 12:30</td>\n",
       "      <td>User123</td>\n",
       "      <td>Twitter</td>\n",
       "      <td>#Nature #Park</td>\n",
       "      <td>15</td>\n",
       "      <td>30</td>\n",
       "      <td>USA</td>\n",
       "      <td>2023</td>\n",
       "      <td>1</td>\n",
       "      <td>15</td>\n",
       "      <td>12</td>\n",
       "    </tr>\n",
       "    <tr>\n",
       "      <th>1</th>\n",
       "      <td>1</td>\n",
       "      <td>Traffic was terrible this morning.           ...</td>\n",
       "      <td>2023-01-15 8:45</td>\n",
       "      <td>CommuterX</td>\n",
       "      <td>Twitter</td>\n",
       "      <td>#Traffic #Morning</td>\n",
       "      <td>5</td>\n",
       "      <td>10</td>\n",
       "      <td>Canada</td>\n",
       "      <td>2023</td>\n",
       "      <td>1</td>\n",
       "      <td>15</td>\n",
       "      <td>8</td>\n",
       "    </tr>\n",
       "    <tr>\n",
       "      <th>2</th>\n",
       "      <td>2</td>\n",
       "      <td>Just finished an amazing workout! 💪          ...</td>\n",
       "      <td>2023-01-15 15:45</td>\n",
       "      <td>FitnessFan</td>\n",
       "      <td>Instagram</td>\n",
       "      <td>#Fitness #Workout</td>\n",
       "      <td>20</td>\n",
       "      <td>40</td>\n",
       "      <td>USA</td>\n",
       "      <td>2023</td>\n",
       "      <td>1</td>\n",
       "      <td>15</td>\n",
       "      <td>15</td>\n",
       "    </tr>\n",
       "    <tr>\n",
       "      <th>3</th>\n",
       "      <td>3</td>\n",
       "      <td>Excited about the upcoming weekend getaway!  ...</td>\n",
       "      <td>2023-01-15 18:20</td>\n",
       "      <td>AdventureX</td>\n",
       "      <td>Facebook</td>\n",
       "      <td>#Travel #Adventure</td>\n",
       "      <td>8</td>\n",
       "      <td>15</td>\n",
       "      <td>UK</td>\n",
       "      <td>2023</td>\n",
       "      <td>1</td>\n",
       "      <td>15</td>\n",
       "      <td>18</td>\n",
       "    </tr>\n",
       "    <tr>\n",
       "      <th>4</th>\n",
       "      <td>4</td>\n",
       "      <td>Trying out a new recipe for dinner tonight.  ...</td>\n",
       "      <td>2023-01-15 19:55</td>\n",
       "      <td>ChefCook</td>\n",
       "      <td>Instagram</td>\n",
       "      <td>#Cooking #Food</td>\n",
       "      <td>12</td>\n",
       "      <td>25</td>\n",
       "      <td>Australia</td>\n",
       "      <td>2023</td>\n",
       "      <td>1</td>\n",
       "      <td>15</td>\n",
       "      <td>19</td>\n",
       "    </tr>\n",
       "    <tr>\n",
       "      <th>...</th>\n",
       "      <td>...</td>\n",
       "      <td>...</td>\n",
       "      <td>...</td>\n",
       "      <td>...</td>\n",
       "      <td>...</td>\n",
       "      <td>...</td>\n",
       "      <td>...</td>\n",
       "      <td>...</td>\n",
       "      <td>...</td>\n",
       "      <td>...</td>\n",
       "      <td>...</td>\n",
       "      <td>...</td>\n",
       "      <td>...</td>\n",
       "    </tr>\n",
       "    <tr>\n",
       "      <th>727</th>\n",
       "      <td>732</td>\n",
       "      <td>Collaborating on a science project that receiv...</td>\n",
       "      <td>2017-08-18 18:20</td>\n",
       "      <td>ScienceProjectSuccessHighSchool</td>\n",
       "      <td>Facebook</td>\n",
       "      <td>#ScienceFairWinner #HighSchoolScience</td>\n",
       "      <td>20</td>\n",
       "      <td>39</td>\n",
       "      <td>UK</td>\n",
       "      <td>2017</td>\n",
       "      <td>8</td>\n",
       "      <td>18</td>\n",
       "      <td>18</td>\n",
       "    </tr>\n",
       "    <tr>\n",
       "      <th>728</th>\n",
       "      <td>733</td>\n",
       "      <td>Attending a surprise birthday party organized ...</td>\n",
       "      <td>2018-06-22 14:15</td>\n",
       "      <td>BirthdayPartyJoyHighSchool</td>\n",
       "      <td>Instagram</td>\n",
       "      <td>#SurpriseCelebration #HighSchoolFriendship</td>\n",
       "      <td>25</td>\n",
       "      <td>48</td>\n",
       "      <td>USA</td>\n",
       "      <td>2018</td>\n",
       "      <td>6</td>\n",
       "      <td>22</td>\n",
       "      <td>14</td>\n",
       "    </tr>\n",
       "    <tr>\n",
       "      <th>729</th>\n",
       "      <td>734</td>\n",
       "      <td>Successfully fundraising for a school charity ...</td>\n",
       "      <td>2019-04-05 17:30</td>\n",
       "      <td>CharityFundraisingTriumphHighSchool</td>\n",
       "      <td>Twitter</td>\n",
       "      <td>#CommunityGiving #HighSchoolPhilanthropy</td>\n",
       "      <td>22</td>\n",
       "      <td>42</td>\n",
       "      <td>Canada</td>\n",
       "      <td>2019</td>\n",
       "      <td>4</td>\n",
       "      <td>5</td>\n",
       "      <td>17</td>\n",
       "    </tr>\n",
       "    <tr>\n",
       "      <th>730</th>\n",
       "      <td>735</td>\n",
       "      <td>Participating in a multicultural festival, cel...</td>\n",
       "      <td>2020-02-29 20:45</td>\n",
       "      <td>MulticulturalFestivalJoyHighSchool</td>\n",
       "      <td>Facebook</td>\n",
       "      <td>#CulturalCelebration #HighSchoolUnity</td>\n",
       "      <td>21</td>\n",
       "      <td>43</td>\n",
       "      <td>UK</td>\n",
       "      <td>2020</td>\n",
       "      <td>2</td>\n",
       "      <td>29</td>\n",
       "      <td>20</td>\n",
       "    </tr>\n",
       "    <tr>\n",
       "      <th>731</th>\n",
       "      <td>736</td>\n",
       "      <td>Organizing a virtual talent show during challe...</td>\n",
       "      <td>2020-11-15 15:15</td>\n",
       "      <td>VirtualTalentShowSuccessHighSchool</td>\n",
       "      <td>Instagram</td>\n",
       "      <td>#VirtualEntertainment #HighSchoolPositivity</td>\n",
       "      <td>24</td>\n",
       "      <td>47</td>\n",
       "      <td>USA</td>\n",
       "      <td>2020</td>\n",
       "      <td>11</td>\n",
       "      <td>15</td>\n",
       "      <td>15</td>\n",
       "    </tr>\n",
       "  </tbody>\n",
       "</table>\n",
       "<p>732 rows × 13 columns</p>\n",
       "</div>"
      ],
      "text/plain": [
       "      Id                                               Text         Timestamp  \\\n",
       "0      0   Enjoying a beautiful day at the park!        ...  2023-01-15 12:30   \n",
       "1      1   Traffic was terrible this morning.           ...   2023-01-15 8:45   \n",
       "2      2   Just finished an amazing workout! 💪          ...  2023-01-15 15:45   \n",
       "3      3   Excited about the upcoming weekend getaway!  ...  2023-01-15 18:20   \n",
       "4      4   Trying out a new recipe for dinner tonight.  ...  2023-01-15 19:55   \n",
       "..   ...                                                ...               ...   \n",
       "727  732  Collaborating on a science project that receiv...  2017-08-18 18:20   \n",
       "728  733  Attending a surprise birthday party organized ...  2018-06-22 14:15   \n",
       "729  734  Successfully fundraising for a school charity ...  2019-04-05 17:30   \n",
       "730  735  Participating in a multicultural festival, cel...  2020-02-29 20:45   \n",
       "731  736  Organizing a virtual talent show during challe...  2020-11-15 15:15   \n",
       "\n",
       "                                      User     Platform  \\\n",
       "0                            User123          Twitter     \n",
       "1                            CommuterX        Twitter     \n",
       "2                            FitnessFan      Instagram    \n",
       "3                            AdventureX       Facebook    \n",
       "4                            ChefCook        Instagram    \n",
       "..                                     ...          ...   \n",
       "727       ScienceProjectSuccessHighSchool     Facebook    \n",
       "728            BirthdayPartyJoyHighSchool    Instagram    \n",
       "729   CharityFundraisingTriumphHighSchool      Twitter    \n",
       "730    MulticulturalFestivalJoyHighSchool     Facebook    \n",
       "731    VirtualTalentShowSuccessHighSchool    Instagram    \n",
       "\n",
       "                                          Hashtags  Retweets  Likes  \\\n",
       "0        #Nature #Park                                    15     30   \n",
       "1        #Traffic #Morning                                 5     10   \n",
       "2        #Fitness #Workout                                20     40   \n",
       "3        #Travel #Adventure                                8     15   \n",
       "4        #Cooking #Food                                   12     25   \n",
       "..                                             ...       ...    ...   \n",
       "727         #ScienceFairWinner #HighSchoolScience         20     39   \n",
       "728    #SurpriseCelebration #HighSchoolFriendship         25     48   \n",
       "729      #CommunityGiving #HighSchoolPhilanthropy         22     42   \n",
       "730         #CulturalCelebration #HighSchoolUnity         21     43   \n",
       "731   #VirtualEntertainment #HighSchoolPositivity         24     47   \n",
       "\n",
       "          Country  Year  Month  Day  Hour  \n",
       "0       USA        2023      1   15    12  \n",
       "1       Canada     2023      1   15     8  \n",
       "2     USA          2023      1   15    15  \n",
       "3       UK         2023      1   15    18  \n",
       "4      Australia   2023      1   15    19  \n",
       "..            ...   ...    ...  ...   ...  \n",
       "727            UK  2017      8   18    18  \n",
       "728           USA  2018      6   22    14  \n",
       "729        Canada  2019      4    5    17  \n",
       "730            UK  2020      2   29    20  \n",
       "731           USA  2020     11   15    15  \n",
       "\n",
       "[732 rows x 13 columns]"
      ]
     },
     "execution_count": 17,
     "metadata": {},
     "output_type": "execute_result"
    }
   ],
   "source": [
    "# Create a new DataFrame for sentiment scores\n",
    "sentiment_df = pd.read_csv(\"sentimentdataset.csv\")\n",
    "sentiment_df"
   ]
  },
  {
   "cell_type": "code",
   "execution_count": 18,
   "id": "5c64c989-98d6-4d1a-b2c9-e22c947a8230",
   "metadata": {},
   "outputs": [],
   "source": [
    "# Calculate sentiment scores and add them to the sentiment DataFrame\n",
    "sentiment_df['compound'] = df['Text'].apply(lambda x: sia.polarity_scores(str(x))['compound'])\n",
    "sentiment_df['positive'] = df['Text'].apply(lambda x: sia.polarity_scores(str(x))['pos'])\n",
    "sentiment_df['neutral'] = df['Text'].apply(lambda x: sia.polarity_scores(str(x))['neu'])\n",
    "sentiment_df['negative'] = df['Text'].apply(lambda x: sia.polarity_scores(str(x))['neg'])"
   ]
  },
  {
   "cell_type": "code",
   "execution_count": 19,
   "id": "64e85b8b-071c-4d34-a7d7-170b25d5791c",
   "metadata": {},
   "outputs": [
    {
     "name": "stdout",
     "output_type": "stream",
     "text": [
      "Sentiment DataFrame:\n",
      "      Id                                               Text         Timestamp  \\\n",
      "0      0   Enjoying a beautiful day at the park!        ...  2023-01-15 12:30   \n",
      "1      1   Traffic was terrible this morning.           ...   2023-01-15 8:45   \n",
      "2      2   Just finished an amazing workout! 💪          ...  2023-01-15 15:45   \n",
      "3      3   Excited about the upcoming weekend getaway!  ...  2023-01-15 18:20   \n",
      "4      4   Trying out a new recipe for dinner tonight.  ...  2023-01-15 19:55   \n",
      "..   ...                                                ...               ...   \n",
      "727  732  Collaborating on a science project that receiv...  2017-08-18 18:20   \n",
      "728  733  Attending a surprise birthday party organized ...  2018-06-22 14:15   \n",
      "729  734  Successfully fundraising for a school charity ...  2019-04-05 17:30   \n",
      "730  735  Participating in a multicultural festival, cel...  2020-02-29 20:45   \n",
      "731  736  Organizing a virtual talent show during challe...  2020-11-15 15:15   \n",
      "\n",
      "                                      User     Platform  \\\n",
      "0                            User123          Twitter     \n",
      "1                            CommuterX        Twitter     \n",
      "2                            FitnessFan      Instagram    \n",
      "3                            AdventureX       Facebook    \n",
      "4                            ChefCook        Instagram    \n",
      "..                                     ...          ...   \n",
      "727       ScienceProjectSuccessHighSchool     Facebook    \n",
      "728            BirthdayPartyJoyHighSchool    Instagram    \n",
      "729   CharityFundraisingTriumphHighSchool      Twitter    \n",
      "730    MulticulturalFestivalJoyHighSchool     Facebook    \n",
      "731    VirtualTalentShowSuccessHighSchool    Instagram    \n",
      "\n",
      "                                          Hashtags  Retweets  Likes  \\\n",
      "0        #Nature #Park                                    15     30   \n",
      "1        #Traffic #Morning                                 5     10   \n",
      "2        #Fitness #Workout                                20     40   \n",
      "3        #Travel #Adventure                                8     15   \n",
      "4        #Cooking #Food                                   12     25   \n",
      "..                                             ...       ...    ...   \n",
      "727         #ScienceFairWinner #HighSchoolScience         20     39   \n",
      "728    #SurpriseCelebration #HighSchoolFriendship         25     48   \n",
      "729      #CommunityGiving #HighSchoolPhilanthropy         22     42   \n",
      "730         #CulturalCelebration #HighSchoolUnity         21     43   \n",
      "731   #VirtualEntertainment #HighSchoolPositivity         24     47   \n",
      "\n",
      "          Country  Year  Month  Day  Hour  compound  positive  neutral  \\\n",
      "0       USA        2023      1   15    12    0.8221     0.655    0.345   \n",
      "1       Canada     2023      1   15     8   -0.4767     0.000    0.563   \n",
      "2     USA          2023      1   15    15    0.6239     0.506    0.494   \n",
      "3       UK         2023      1   15    18    0.4003     0.350    0.650   \n",
      "4      Australia   2023      1   15    19    0.0000     0.000    1.000   \n",
      "..            ...   ...    ...  ...   ...       ...       ...      ...   \n",
      "727            UK  2017      8   18    18    0.8268     0.441    0.559   \n",
      "728           USA  2018      6   22    14    0.9551     0.698    0.302   \n",
      "729        Canada  2019      4    5    17    0.9098     0.555    0.445   \n",
      "730            UK  2020      2   29    20    0.8977     0.548    0.452   \n",
      "731           USA  2020     11   15    15    0.7777     0.464    0.536   \n",
      "\n",
      "     negative  \n",
      "0       0.000  \n",
      "1       0.437  \n",
      "2       0.000  \n",
      "3       0.000  \n",
      "4       0.000  \n",
      "..        ...  \n",
      "727     0.000  \n",
      "728     0.000  \n",
      "729     0.000  \n",
      "730     0.000  \n",
      "731     0.000  \n",
      "\n",
      "[732 rows x 17 columns]\n"
     ]
    }
   ],
   "source": [
    "# Display the sentiment DataFrame\n",
    "print(\"Sentiment DataFrame:\")\n",
    "print(sentiment_df)"
   ]
  },
  {
   "cell_type": "code",
   "execution_count": 24,
   "id": "32dfd807-6c44-4690-837b-168daa725278",
   "metadata": {},
   "outputs": [
    {
     "name": "stdout",
     "output_type": "stream",
     "text": [
      "\n",
      "Merged DataFrame:\n",
      "      Id                                               Text         Timestamp  \\\n",
      "0      0   Enjoying a beautiful day at the park!        ...  2023-01-15 12:30   \n",
      "1      1   Traffic was terrible this morning.           ...   2023-01-15 8:45   \n",
      "2      2   Just finished an amazing workout! 💪          ...  2023-01-15 15:45   \n",
      "3      3   Excited about the upcoming weekend getaway!  ...  2023-01-15 18:20   \n",
      "4      4   Trying out a new recipe for dinner tonight.  ...  2023-01-15 19:55   \n",
      "..   ...                                                ...               ...   \n",
      "727  732  Collaborating on a science project that receiv...  2017-08-18 18:20   \n",
      "728  733  Attending a surprise birthday party organized ...  2018-06-22 14:15   \n",
      "729  734  Successfully fundraising for a school charity ...  2019-04-05 17:30   \n",
      "730  735  Participating in a multicultural festival, cel...  2020-02-29 20:45   \n",
      "731  736  Organizing a virtual talent show during challe...  2020-11-15 15:15   \n",
      "\n",
      "                                      User     Platform  \\\n",
      "0                            User123          Twitter     \n",
      "1                            CommuterX        Twitter     \n",
      "2                            FitnessFan      Instagram    \n",
      "3                            AdventureX       Facebook    \n",
      "4                            ChefCook        Instagram    \n",
      "..                                     ...          ...   \n",
      "727       ScienceProjectSuccessHighSchool     Facebook    \n",
      "728            BirthdayPartyJoyHighSchool    Instagram    \n",
      "729   CharityFundraisingTriumphHighSchool      Twitter    \n",
      "730    MulticulturalFestivalJoyHighSchool     Facebook    \n",
      "731    VirtualTalentShowSuccessHighSchool    Instagram    \n",
      "\n",
      "                                          Hashtags  Retweets  Likes  \\\n",
      "0        #Nature #Park                                    15     30   \n",
      "1        #Traffic #Morning                                 5     10   \n",
      "2        #Fitness #Workout                                20     40   \n",
      "3        #Travel #Adventure                                8     15   \n",
      "4        #Cooking #Food                                   12     25   \n",
      "..                                             ...       ...    ...   \n",
      "727         #ScienceFairWinner #HighSchoolScience         20     39   \n",
      "728    #SurpriseCelebration #HighSchoolFriendship         25     48   \n",
      "729      #CommunityGiving #HighSchoolPhilanthropy         22     42   \n",
      "730         #CulturalCelebration #HighSchoolUnity         21     43   \n",
      "731   #VirtualEntertainment #HighSchoolPositivity         24     47   \n",
      "\n",
      "          Country  Year  Month  Day  Hour  compound  positive  neutral  \\\n",
      "0       USA        2023      1   15    12    0.8221     0.655    0.345   \n",
      "1       Canada     2023      1   15     8   -0.4767     0.000    0.563   \n",
      "2     USA          2023      1   15    15    0.6239     0.506    0.494   \n",
      "3       UK         2023      1   15    18    0.4003     0.350    0.650   \n",
      "4      Australia   2023      1   15    19    0.0000     0.000    1.000   \n",
      "..            ...   ...    ...  ...   ...       ...       ...      ...   \n",
      "727            UK  2017      8   18    18    0.8268     0.441    0.559   \n",
      "728           USA  2018      6   22    14    0.9551     0.698    0.302   \n",
      "729        Canada  2019      4    5    17    0.9098     0.555    0.445   \n",
      "730            UK  2020      2   29    20    0.8977     0.548    0.452   \n",
      "731           USA  2020     11   15    15    0.7777     0.464    0.536   \n",
      "\n",
      "     negative  \n",
      "0       0.000  \n",
      "1       0.437  \n",
      "2       0.000  \n",
      "3       0.000  \n",
      "4       0.000  \n",
      "..        ...  \n",
      "727     0.000  \n",
      "728     0.000  \n",
      "729     0.000  \n",
      "730     0.000  \n",
      "731     0.000  \n",
      "\n",
      "[732 rows x 17 columns]\n"
     ]
    }
   ],
   "source": [
    "# Merge the sentiment DataFrame with the original df based on the identifier\n",
    "merged_df = pd.merge(df, sentiment_df, how='inner')\n",
    "\n",
    "# Display the merged DataFrame\n",
    "print(\"\\nMerged DataFrame:\")\n",
    "print(merged_df)"
   ]
  },
  {
   "cell_type": "code",
   "execution_count": 25,
   "id": "cf70e450-33eb-4247-be7f-80b8ced64aa9",
   "metadata": {},
   "outputs": [
    {
     "data": {
      "text/html": [
       "<div>\n",
       "<style scoped>\n",
       "    .dataframe tbody tr th:only-of-type {\n",
       "        vertical-align: middle;\n",
       "    }\n",
       "\n",
       "    .dataframe tbody tr th {\n",
       "        vertical-align: top;\n",
       "    }\n",
       "\n",
       "    .dataframe thead th {\n",
       "        text-align: right;\n",
       "    }\n",
       "</style>\n",
       "<table border=\"1\" class=\"dataframe\">\n",
       "  <thead>\n",
       "    <tr style=\"text-align: right;\">\n",
       "      <th></th>\n",
       "      <th>Id</th>\n",
       "      <th>Text</th>\n",
       "      <th>Timestamp</th>\n",
       "      <th>User</th>\n",
       "      <th>Platform</th>\n",
       "      <th>Hashtags</th>\n",
       "      <th>Retweets</th>\n",
       "      <th>Likes</th>\n",
       "      <th>Country</th>\n",
       "      <th>Year</th>\n",
       "      <th>Month</th>\n",
       "      <th>Day</th>\n",
       "      <th>Hour</th>\n",
       "      <th>compound</th>\n",
       "      <th>positive</th>\n",
       "      <th>neutral</th>\n",
       "      <th>negative</th>\n",
       "    </tr>\n",
       "  </thead>\n",
       "  <tbody>\n",
       "    <tr>\n",
       "      <th>0</th>\n",
       "      <td>0</td>\n",
       "      <td>Enjoying a beautiful day at the park!        ...</td>\n",
       "      <td>2023-01-15 12:30</td>\n",
       "      <td>User123</td>\n",
       "      <td>Twitter</td>\n",
       "      <td>#Nature #Park</td>\n",
       "      <td>15</td>\n",
       "      <td>30</td>\n",
       "      <td>USA</td>\n",
       "      <td>2023</td>\n",
       "      <td>1</td>\n",
       "      <td>15</td>\n",
       "      <td>12</td>\n",
       "      <td>0.8221</td>\n",
       "      <td>0.655</td>\n",
       "      <td>0.345</td>\n",
       "      <td>0.000</td>\n",
       "    </tr>\n",
       "    <tr>\n",
       "      <th>1</th>\n",
       "      <td>1</td>\n",
       "      <td>Traffic was terrible this morning.           ...</td>\n",
       "      <td>2023-01-15 8:45</td>\n",
       "      <td>CommuterX</td>\n",
       "      <td>Twitter</td>\n",
       "      <td>#Traffic #Morning</td>\n",
       "      <td>5</td>\n",
       "      <td>10</td>\n",
       "      <td>Canada</td>\n",
       "      <td>2023</td>\n",
       "      <td>1</td>\n",
       "      <td>15</td>\n",
       "      <td>8</td>\n",
       "      <td>-0.4767</td>\n",
       "      <td>0.000</td>\n",
       "      <td>0.563</td>\n",
       "      <td>0.437</td>\n",
       "    </tr>\n",
       "    <tr>\n",
       "      <th>2</th>\n",
       "      <td>2</td>\n",
       "      <td>Just finished an amazing workout! 💪          ...</td>\n",
       "      <td>2023-01-15 15:45</td>\n",
       "      <td>FitnessFan</td>\n",
       "      <td>Instagram</td>\n",
       "      <td>#Fitness #Workout</td>\n",
       "      <td>20</td>\n",
       "      <td>40</td>\n",
       "      <td>USA</td>\n",
       "      <td>2023</td>\n",
       "      <td>1</td>\n",
       "      <td>15</td>\n",
       "      <td>15</td>\n",
       "      <td>0.6239</td>\n",
       "      <td>0.506</td>\n",
       "      <td>0.494</td>\n",
       "      <td>0.000</td>\n",
       "    </tr>\n",
       "    <tr>\n",
       "      <th>3</th>\n",
       "      <td>3</td>\n",
       "      <td>Excited about the upcoming weekend getaway!  ...</td>\n",
       "      <td>2023-01-15 18:20</td>\n",
       "      <td>AdventureX</td>\n",
       "      <td>Facebook</td>\n",
       "      <td>#Travel #Adventure</td>\n",
       "      <td>8</td>\n",
       "      <td>15</td>\n",
       "      <td>UK</td>\n",
       "      <td>2023</td>\n",
       "      <td>1</td>\n",
       "      <td>15</td>\n",
       "      <td>18</td>\n",
       "      <td>0.4003</td>\n",
       "      <td>0.350</td>\n",
       "      <td>0.650</td>\n",
       "      <td>0.000</td>\n",
       "    </tr>\n",
       "    <tr>\n",
       "      <th>4</th>\n",
       "      <td>4</td>\n",
       "      <td>Trying out a new recipe for dinner tonight.  ...</td>\n",
       "      <td>2023-01-15 19:55</td>\n",
       "      <td>ChefCook</td>\n",
       "      <td>Instagram</td>\n",
       "      <td>#Cooking #Food</td>\n",
       "      <td>12</td>\n",
       "      <td>25</td>\n",
       "      <td>Australia</td>\n",
       "      <td>2023</td>\n",
       "      <td>1</td>\n",
       "      <td>15</td>\n",
       "      <td>19</td>\n",
       "      <td>0.0000</td>\n",
       "      <td>0.000</td>\n",
       "      <td>1.000</td>\n",
       "      <td>0.000</td>\n",
       "    </tr>\n",
       "  </tbody>\n",
       "</table>\n",
       "</div>"
      ],
      "text/plain": [
       "   Id                                               Text         Timestamp  \\\n",
       "0   0   Enjoying a beautiful day at the park!        ...  2023-01-15 12:30   \n",
       "1   1   Traffic was terrible this morning.           ...   2023-01-15 8:45   \n",
       "2   2   Just finished an amazing workout! 💪          ...  2023-01-15 15:45   \n",
       "3   3   Excited about the upcoming weekend getaway!  ...  2023-01-15 18:20   \n",
       "4   4   Trying out a new recipe for dinner tonight.  ...  2023-01-15 19:55   \n",
       "\n",
       "             User     Platform                                    Hashtags  \\\n",
       "0   User123          Twitter     #Nature #Park                               \n",
       "1   CommuterX        Twitter     #Traffic #Morning                           \n",
       "2   FitnessFan      Instagram    #Fitness #Workout                           \n",
       "3   AdventureX       Facebook    #Travel #Adventure                          \n",
       "4   ChefCook        Instagram    #Cooking #Food                              \n",
       "\n",
       "   Retweets  Likes       Country  Year  Month  Day  Hour  compound  positive  \\\n",
       "0        15     30     USA        2023      1   15    12    0.8221     0.655   \n",
       "1         5     10     Canada     2023      1   15     8   -0.4767     0.000   \n",
       "2        20     40   USA          2023      1   15    15    0.6239     0.506   \n",
       "3         8     15     UK         2023      1   15    18    0.4003     0.350   \n",
       "4        12     25    Australia   2023      1   15    19    0.0000     0.000   \n",
       "\n",
       "   neutral  negative  \n",
       "0    0.345     0.000  \n",
       "1    0.563     0.437  \n",
       "2    0.494     0.000  \n",
       "3    0.650     0.000  \n",
       "4    1.000     0.000  "
      ]
     },
     "execution_count": 25,
     "metadata": {},
     "output_type": "execute_result"
    }
   ],
   "source": [
    "merged_df.head()"
   ]
  },
  {
   "cell_type": "markdown",
   "id": "ad392ced-e828-406d-886f-19efe6b11b79",
   "metadata": {},
   "source": [
    "## Plot VADER Results"
   ]
  },
  {
   "cell_type": "code",
   "execution_count": 31,
   "id": "26d7582f-85c4-4daa-976e-b1b54ffd1fea",
   "metadata": {},
   "outputs": [
    {
     "data": {
      "image/png": "[encoded data removed]",
      "text/plain": [
       "<Figure size 640x480 with 1 Axes>"
      ]
     },
     "metadata": {},
     "output_type": "display_data"
    }
   ],
   "source": [
    "ax = sns.barplot (data = merged_df, x='Platform', y='compound')\n",
    "ax.set_title('Compound Score by Platforms')\n",
    "plt.show()"
   ]
  },
  {
   "cell_type": "code",
   "execution_count": 30,
   "id": "4ce33fe8-5c13-4306-92cb-8f24a3b4e5ca",
   "metadata": {},
   "outputs": [
    {
     "data": {
      "image/png": "[encoded data removed]",
      "text/plain": [
       "<Figure size 1600x300 with 3 Axes>"
      ]
     },
     "metadata": {},
     "output_type": "display_data"
    }
   ],
   "source": [
    "fig, axs = plt.subplots(1,3, figsize=(16,3))\n",
    "sns.barplot(data = merged_df, x='Platform', y='positive', ax=axs[0])\n",
    "sns.barplot(data = merged_df, x='Platform', y='neutral', ax=axs[1])\n",
    "sns.barplot(data = merged_df, x='Platform', y='negative', ax=axs[2])\n",
    "axs[0].set_title('Positive')\n",
    "axs[1].set_title('Neutral')\n",
    "axs[2].set_title('Negative')\n",
    "\n",
    "plt.show()"
   ]
  },
  {
   "cell_type": "code",
   "execution_count": null,
   "id": "a19fb80d-e382-4fd6-836e-29811908eb3a",
   "metadata": {},
   "outputs": [],
   "source": []
  },
  {
   "cell_type": "code",
   "execution_count": 30,
   "id": "3ae5f3b3-2006-476c-b4a6-f24ecfeef605",
   "metadata": {},
   "outputs": [
    {
     "data": {
      "image/png": "[encoded data removed]",
      "text/plain": [
       "<Figure size 1600x300 with 3 Axes>"
      ]
     },
     "metadata": {},
     "output_type": "display_data"
    }
   ],
   "source": [
    "fig, axs = plt.subplots(1,3, figsize=(16,3))\n",
    "sns.barplot(data = merged_df, x='Platform', y='positive', ax=axs[0])\n",
    "sns.barplot(data = merged_df, x='Platform', y='neutral', ax=axs[1])\n",
    "sns.barplot(data = merged_df, x='Platform', y='negative', ax=axs[2])\n",
    "axs[0].set_title('Positive')\n",
    "axs[1].set_title('Neutral')\n",
    "axs[2].set_title('Negative')\n",
    "\n",
    "plt.show()"
   ]
  },
  {
   "cell_type": "markdown",
   "id": "d6552d96-6c5e-47d3-bab4-2907ee5879e7",
   "metadata": {},
   "source": [
    "## Brief explanation"
   ]
  },
  {
   "cell_type": "code",
   "execution_count": null,
   "id": "9be36c47-8ec3-4bbf-97c7-8937743cd4dc",
   "metadata": {},
   "outputs": [],
   "source": [
    "Sentiment analysis, a powerful tool in natural language processing, enables the exploration of a variety of datasets using Python. This project used a social media sentiment dataset to perform a sentiment analysis. Different Python packages, such as pandas, numpy, matplolib, seaborn, and Vader, were used to accomplish this for data analysis and visualization:\n",
    "1. The dataset was checked to look for discrepancies and errors.\n",
    "2. A fundamental NLKT analysis was done \n",
    "3. I used the Vader sentiment score to help with the data classification based on reviews and used the bag of words approach to remove stop words, such as 'but, 'and' and so on.\n",
    "4. A  new dataset was created, merging the previous one with the sentiment analysis results.\n",
    "5. The results from the sentiment analysis were plotted using seaborn to visualize them. \n",
    "6. As a final results we have three plots showing positive, negative and neutral sentiments based on the different platforms. Where we would see that Twitter has the hightest negative sentiments.\n"
   ]
  }
 ],
 "metadata": {
  "kernelspec": {
   "display_name": "Python 3 (ipykernel)",
   "language": "python",
   "name": "python3"
  },
  "language_info": {
   "codemirror_mode": {
    "name": "ipython",
    "version": 3
   },
   "file_extension": ".py",
   "mimetype": "text/x-python",
   "name": "python",
   "nbconvert_exporter": "python",
   "pygments_lexer": "ipython3",
   "version": "3.12.0"
  }
 },
 "nbformat": 4,
 "nbformat_minor": 5
}
